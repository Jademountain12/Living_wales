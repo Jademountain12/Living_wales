{
 "cells": [
  {
   "cell_type": "code",
   "execution_count": 1,
   "id": "d0ff9f1f-a362-48b0-93ca-f00c2b00ac11",
   "metadata": {},
   "outputs": [
    {
     "name": "stdout",
     "output_type": "stream",
     "text": [
      "dave\n"
     ]
    }
   ],
   "source": [
    "print (\"dave\")"
   ]
  },
  {
   "cell_type": "code",
   "execution_count": null,
   "id": "c9859014-7dbd-4079-88c8-9f4e3b609305",
   "metadata": {},
   "outputs": [],
   "source": [
    "sdfds"
   ]
  },
  {
   "cell_type": "code",
   "execution_count": null,
   "id": "0e0e012e-a96c-47c1-aed2-7e15196698ce",
   "metadata": {},
   "outputs": [],
   "source": [
    "bob"
   ]
  },
  {
   "cell_type": "code",
   "execution_count": null,
   "id": "288b3b58-72c0-40c7-8a4d-3dde82601108",
   "metadata": {},
   "outputs": [],
   "source": []
  },
  {
   "cell_type": "code",
   "execution_count": null,
   "id": "b5bbddf6-820e-4166-86c4-b37ae62c4076",
   "metadata": {},
   "outputs": [],
   "source": [
    "print (\"dave\")"
   ]
  },
  {
   "cell_type": "code",
   "execution_count": null,
   "id": "ac8c56e1-d832-47e9-a847-39550b0e7075",
   "metadata": {},
   "outputs": [],
   "source": []
  }
 ],
 "metadata": {
  "kernelspec": {
   "display_name": "Python 3 (ipykernel)",
   "language": "python",
   "name": "python3"
  },
  "language_info": {
   "codemirror_mode": {
    "name": "ipython",
    "version": 3
   },
   "file_extension": ".py",
   "mimetype": "text/x-python",
   "name": "python",
   "nbconvert_exporter": "python",
   "pygments_lexer": "ipython3",
   "version": "3.12.1"
  }
 },
 "nbformat": 4,
 "nbformat_minor": 5
}
