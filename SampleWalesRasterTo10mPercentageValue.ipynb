{
 "cells": [
  {
   "cell_type": "code",
   "execution_count": null,
   "id": "4788ef29-0555-4121-94ed-fa789f3bcfb7",
   "metadata": {},
   "outputs": [],
   "source": []
  },
  {
   "cell_type": "code",
   "execution_count": 1,
   "id": "1a1b2d6e-520f-4b03-91fc-fb06be13cd6f",
   "metadata": {},
   "outputs": [
    {
     "name": "stdout",
     "output_type": "stream",
     "text": [
      "Using 12 processors...\n"
     ]
    },
    {
     "name": "stderr",
     "output_type": "stream",
     "text": [
      "/usr/lib/python3/dist-packages/osgeo/gdal.py:315: FutureWarning: Neither gdal.UseExceptions() nor gdal.DontUseExceptions() has been explicitly called. In GDAL 4.0, exceptions will be enabled by default.\n",
      "  warnings.warn(\n"
     ]
    },
    {
     "name": "stdout",
     "output_type": "stream",
     "text": [
      "Processing complete: Above15m_10mRes_.tif\n"
     ]
    }
   ],
   "source": [
    "import os\n",
    "import numpy as np\n",
    "from osgeo import gdal, gdalconst\n",
    "from multiprocessing import Pool, cpu_count\n",
    "\n",
    "\n",
    "def process_chunk_parallel(args):\n",
    "    \"\"\"Worker function to process a single chunk in parallel.\"\"\"\n",
    "    src_raster, x, y, x_end, y_end, min_threshold, max_threshold, nodata = args\n",
    "    src_ds = gdal.Open(src_raster, gdalconst.GA_ReadOnly)\n",
    "    src_band = src_ds.GetRasterBand(1)\n",
    "    chunk_data = src_band.ReadAsArray(x, y, x_end - x, y_end - y)\n",
    "    src_ds = None\n",
    "    \n",
    "    # Apply threshold\n",
    "    mask = (chunk_data >= min_threshold) & (chunk_data <= max_threshold)\n",
    "    chunk_data = np.where(mask, 1, 0)  # Reclassify\n",
    "    \n",
    "    # Resample to 10m resolution\n",
    "    chunk_resampled = chunk_data.reshape(\n",
    "        (chunk_data.shape[0] // 10, 10, chunk_data.shape[1] // 10, 10)\n",
    "    ).sum(axis=(1, 3))  # Sum within 10x10 blocks\n",
    "    \n",
    "    return x, y, chunk_resampled\n",
    "\n",
    "\n",
    "def process_large_raster(input_raster, output_raster, min_threshold, max_threshold, chunk_size=10000, compression=\"DEFLATE\"):\n",
    "    \"\"\"Main function to process large raster in parallel.\"\"\"\n",
    "    # Open the input raster\n",
    "    src_ds = gdal.Open(input_raster, gdalconst.GA_ReadOnly)\n",
    "    if src_ds is None:\n",
    "        raise FileNotFoundError(f\"Unable to open input raster: {input_raster}\")\n",
    "    \n",
    "    src_band = src_ds.GetRasterBand(1)\n",
    "    nodata = src_band.GetNoDataValue()\n",
    "    if nodata is None:\n",
    "        nodata = 0\n",
    "    \n",
    "    # Get raster dimensions and geotransform\n",
    "    xsize, ysize = src_ds.RasterXSize, src_ds.RasterYSize\n",
    "    geotransform = src_ds.GetGeoTransform()\n",
    "    projection = src_ds.GetProjection()\n",
    "    \n",
    "    # Prepare output raster\n",
    "    driver = gdal.GetDriverByName(\"GTiff\")\n",
    "    dst_ds = driver.Create(\n",
    "        output_raster,\n",
    "        xsize // 10,  # Resampled to 10m resolution\n",
    "        ysize // 10,\n",
    "        1,\n",
    "        gdalconst.GDT_Int32,\n",
    "        options=[\"COMPRESS={}\".format(compression)]\n",
    "    )\n",
    "    dst_ds.SetGeoTransform((\n",
    "        geotransform[0], 10, 0, geotransform[3], 0, -10\n",
    "    ))  # Update geotransform for 10m resolution\n",
    "    dst_ds.SetProjection(projection)\n",
    "    dst_band = dst_ds.GetRasterBand(1)\n",
    "    dst_band.SetNoDataValue(0)\n",
    "    \n",
    "    # Determine chunk size in pixels\n",
    "    chunk_x_pixels = int(chunk_size // abs(geotransform[1]))  # Convert chunk size to pixels (meters -> pixels)\n",
    "    chunk_y_pixels = int(chunk_size // abs(geotransform[5]))\n",
    "    \n",
    "    # Create tasks for parallel processing\n",
    "    tasks = []\n",
    "    for y in range(0, ysize, chunk_y_pixels):\n",
    "        for x in range(0, xsize, chunk_x_pixels):\n",
    "            x_end = min(x + chunk_x_pixels, xsize)\n",
    "            y_end = min(y + chunk_y_pixels, ysize)\n",
    "            tasks.append((input_raster, x, y, x_end, y_end, min_threshold, max_threshold, nodata))\n",
    "    \n",
    "    # Use multiprocessing to process chunks in parallel\n",
    "    print(f\"Using {cpu_count()} processors...\")\n",
    "    with Pool(cpu_count()) as pool:\n",
    "        results = pool.map(process_chunk_parallel, tasks)\n",
    "    \n",
    "    # Combine results into the output array\n",
    "    output_data = np.zeros((ysize // 10, xsize // 10), dtype=np.int32)\n",
    "    for x, y, chunk_resampled in results:\n",
    "        res_y_start = y // 10\n",
    "        res_x_start = x // 10\n",
    "        output_data[res_y_start:res_y_start + chunk_resampled.shape[0], \n",
    "                    res_x_start:res_x_start + chunk_resampled.shape[1]] += chunk_resampled\n",
    "    \n",
    "    # Write output raster\n",
    "    dst_band.WriteArray(output_data)\n",
    "    dst_band.FlushCache()\n",
    "    dst_ds = None\n",
    "    src_ds = None\n",
    "    print(f\"Processing complete: {output_raster}\")\n",
    "\n",
    "\n",
    "# Example usage\n",
    "input_raster = \"7_max_AllHeights_NoMissingReprojected.tif\"\n",
    "output_raster = \"Above15m_10mRes_.tif\"\n",
    "\n",
    "# Define threshold range\n",
    "min_threshold = 1500\n",
    "max_threshold = 6666\n",
    "\n",
    "process_large_raster(input_raster, output_raster, min_threshold, max_threshold)"
   ]
  },
  {
   "cell_type": "code",
   "execution_count": null,
   "id": "21cd0ce6-d94a-4502-95a8-e2cd6c8c0e72",
   "metadata": {},
   "outputs": [],
   "source": []
  }
 ],
 "metadata": {
  "kernelspec": {
   "display_name": "Python 3 (ipykernel)",
   "language": "python",
   "name": "python3"
  },
  "language_info": {
   "codemirror_mode": {
    "name": "ipython",
    "version": 3
   },
   "file_extension": ".py",
   "mimetype": "text/x-python",
   "name": "python",
   "nbconvert_exporter": "python",
   "pygments_lexer": "ipython3",
   "version": "3.10.12"
  }
 },
 "nbformat": 4,
 "nbformat_minor": 5
}
